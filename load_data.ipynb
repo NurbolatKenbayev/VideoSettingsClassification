{
 "cells": [
  {
   "cell_type": "code",
   "execution_count": null,
   "metadata": {},
   "outputs": [],
   "source": [
    "import os\n",
    "\n",
    "import boto3"
   ]
  },
  {
   "cell_type": "code",
   "execution_count": 30,
   "metadata": {},
   "outputs": [],
   "source": [
    "s3_client = boto3.Session(\n",
    "    aws_access_key_id=\"00898e8b2448f469bec1a4e2424d3a0f\",\n",
    "    aws_secret_access_key=\"d67f9367ef4a441b25f2ad1b36d2d58d4fc2e52c2762c73be2390d8a566c0963\",\n",
    ").client(\n",
    "    \"s3\",\n",
    "    endpoint_url=\"https://695d5a9fc666e505559765690b5db7dd.eu.r2.cloudflarestorage.com\",\n",
    ")"
   ]
  },
  {
   "cell_type": "code",
   "execution_count": 62,
   "metadata": {},
   "outputs": [
    {
     "data": {
      "text/plain": [
       "'Jurassic World Dominion (2022) [1080p] [BluRay] [5.1] [YTS.MX]'"
      ]
     },
     "execution_count": 62,
     "metadata": {},
     "output_type": "execute_result"
    }
   ],
   "source": [
    "load_data_info_dir = \"./batch_generation_data\"\n",
    "\n",
    "all_movies = os.listdir(load_data_info_dir)\n",
    "\n",
    "movie = [x for x in all_movies if \"Jurassic World Dominion\" in x][0]\n",
    "\n",
    "movie"
   ]
  },
  {
   "cell_type": "code",
   "execution_count": 86,
   "metadata": {},
   "outputs": [],
   "source": [
    "# s3_client.download_file(\n",
    "#     Bucket=\"hf-movies\",\n",
    "#     Key=\"cutscenes/movies-1/Jurassic World Dominion (2022) [1080p] [BluRay] [5.1] [YTS.MX]/Jurassic.World.Dominion.2022.1080p.BluRay.x264.AAC5.1-[YTS.MX].mp4/tmp9dt5tflk-Scene-0697.mp4\",\n",
    "#     Filename=os.path.join(save_data_dir, \"test.mp4\"),\n",
    "# )"
   ]
  },
  {
   "cell_type": "code",
   "execution_count": 87,
   "metadata": {},
   "outputs": [],
   "source": [
    "def load_one_movie(load_data_info_dir, movie, save_data_dir):\n",
    "    movie_path = os.path.join(load_data_info_dir, movie)\n",
    "\n",
    "    scenarios = sorted(os.listdir(movie_path), key=lambda x: int(x))\n",
    "    for scenario in scenarios:\n",
    "        scenes_file = os.path.join(movie_path, scenario, \"scenes.txt\")\n",
    "\n",
    "        with open(scenes_file, \"r\") as f:\n",
    "            lines = f.readlines()\n",
    "\n",
    "        save_dir_path = os.path.join(\n",
    "            save_data_dir, movie_path.replace(load_data_info_dir + \"/\", \"\"), scenario\n",
    "        )\n",
    "        os.makedirs(save_dir_path, exist_ok=True)\n",
    "        for k, line in enumerate(lines):\n",
    "            s3_client.download_file(\n",
    "                Bucket=\"hf-movies\",\n",
    "                Key=line.strip(),\n",
    "                Filename=os.path.join(save_dir_path, f\"scene{k}.mp4\"),\n",
    "            )\n",
    "\n",
    "        break"
   ]
  },
  {
   "cell_type": "code",
   "execution_count": 88,
   "metadata": {},
   "outputs": [],
   "source": [
    "save_data_dir = \"./loaded_data\"\n",
    "os.makedirs(save_data_dir, exist_ok=True)"
   ]
  },
  {
   "cell_type": "code",
   "execution_count": 89,
   "metadata": {},
   "outputs": [],
   "source": [
    "load_one_movie(\n",
    "    load_data_info_dir=load_data_info_dir, movie=movie, save_data_dir=save_data_dir\n",
    ")"
   ]
  },
  {
   "cell_type": "code",
   "execution_count": null,
   "metadata": {},
   "outputs": [],
   "source": []
  }
 ],
 "metadata": {
  "kernelspec": {
   "display_name": "ml_env",
   "language": "python",
   "name": "python3"
  },
  "language_info": {
   "codemirror_mode": {
    "name": "ipython",
    "version": 3
   },
   "file_extension": ".py",
   "mimetype": "text/x-python",
   "name": "python",
   "nbconvert_exporter": "python",
   "pygments_lexer": "ipython3",
   "version": "3.11.9"
  }
 },
 "nbformat": 4,
 "nbformat_minor": 2
}
