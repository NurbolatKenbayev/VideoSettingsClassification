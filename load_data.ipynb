{
 "cells": [
  {
   "cell_type": "code",
   "execution_count": null,
   "metadata": {},
   "outputs": [
    {
     "data": {
      "text/plain": [
       "True"
      ]
     },
     "execution_count": 1,
     "metadata": {},
     "output_type": "execute_result"
    }
   ],
   "source": [
    "import os\n",
    "\n",
    "import boto3\n",
    "from dotenv import load_dotenv\n",
    "\n",
    "load_dotenv()  # take environment variables from .env."
   ]
  },
  {
   "cell_type": "code",
   "execution_count": 2,
   "metadata": {},
   "outputs": [],
   "source": [
    "AWS_ACCESS_KEY_ID = os.getenv(\"AWS_ACCESS_KEY_ID\")\n",
    "AWS_SECRET_ACCESS_KEY = os.getenv(\"AWS_SECRET_ACCESS_KEY\")"
   ]
  },
  {
   "cell_type": "markdown",
   "metadata": {},
   "source": [
    "# Load cut scenes from movies"
   ]
  },
  {
   "cell_type": "code",
   "execution_count": 9,
   "metadata": {},
   "outputs": [],
   "source": [
    "def load_one_movie_cut_scene(load_data_info_dir, movie, save_data_dir, bucket):\n",
    "    movie_path = os.path.join(load_data_info_dir, movie)\n",
    "\n",
    "    scenarios = sorted(os.listdir(movie_path), key=lambda x: int(x))\n",
    "    for scenario in scenarios:\n",
    "        scenes_file = os.path.join(movie_path, scenario, \"scenes.txt\")\n",
    "\n",
    "        with open(scenes_file, \"r\") as f:\n",
    "            lines = f.readlines()\n",
    "\n",
    "        save_dir_path = os.path.join(\n",
    "            save_data_dir,\n",
    "            movie_path.replace(load_data_info_dir + \"/\", \"\"),\n",
    "            scenario,\n",
    "        )\n",
    "        os.makedirs(save_dir_path, exist_ok=True)\n",
    "        for k, line in enumerate(lines):\n",
    "            s3_client.download_file(\n",
    "                Bucket=bucket,\n",
    "                Key=line.strip(),\n",
    "                Filename=os.path.join(save_dir_path, f\"scene{k}.mp4\"),\n",
    "            )"
   ]
  },
  {
   "cell_type": "code",
   "execution_count": 2,
   "metadata": {},
   "outputs": [],
   "source": [
    "s3_client = boto3.Session(\n",
    "    aws_access_key_id=AWS_ACCESS_KEY_ID,\n",
    "    aws_secret_access_key=AWS_SECRET_ACCESS_KEY,\n",
    ").client(\n",
    "    \"s3\",\n",
    "    endpoint_url=\"https://695d5a9fc666e505559765690b5db7dd.eu.r2.cloudflarestorage.com\",\n",
    ")"
   ]
  },
  {
   "cell_type": "code",
   "execution_count": 3,
   "metadata": {},
   "outputs": [
    {
     "data": {
      "text/plain": [
       "'Jurassic World Dominion (2022) [1080p] [BluRay] [5.1] [YTS.MX]'"
      ]
     },
     "execution_count": 3,
     "metadata": {},
     "output_type": "execute_result"
    }
   ],
   "source": [
    "load_data_info_dir = \"./batch_generation_data\"\n",
    "\n",
    "all_movies = os.listdir(load_data_info_dir)\n",
    "\n",
    "movie = [x for x in all_movies if \"Jurassic World Dominion\" in x][0]\n",
    "\n",
    "movie"
   ]
  },
  {
   "cell_type": "code",
   "execution_count": 4,
   "metadata": {},
   "outputs": [],
   "source": [
    "# s3_client.download_file(\n",
    "#     Bucket=\"hf-movies\",\n",
    "#     Key=\"cutscenes/movies-1/Jurassic World Dominion (2022) [1080p] [BluRay] [5.1] [YTS.MX]/Jurassic.World.Dominion.2022.1080p.BluRay.x264.AAC5.1-[YTS.MX].mp4/tmp9dt5tflk-Scene-0697.mp4\",\n",
    "#     Filename=os.path.join(save_data_dir, \"test.mp4\"),\n",
    "# )"
   ]
  },
  {
   "cell_type": "code",
   "execution_count": 6,
   "metadata": {},
   "outputs": [],
   "source": [
    "save_data_dir = \"./loaded_data\"\n",
    "os.makedirs(save_data_dir, exist_ok=True)"
   ]
  },
  {
   "cell_type": "code",
   "execution_count": 7,
   "metadata": {},
   "outputs": [],
   "source": [
    "load_one_movie_cut_scene(\n",
    "    load_data_info_dir=load_data_info_dir,\n",
    "    movie=movie,\n",
    "    save_data_dir=save_data_dir,\n",
    "    bucket=\"hf-movies\",\n",
    ")"
   ]
  },
  {
   "cell_type": "code",
   "execution_count": null,
   "metadata": {},
   "outputs": [],
   "source": []
  },
  {
   "cell_type": "code",
   "execution_count": null,
   "metadata": {},
   "outputs": [],
   "source": []
  },
  {
   "cell_type": "code",
   "execution_count": null,
   "metadata": {},
   "outputs": [],
   "source": []
  },
  {
   "cell_type": "code",
   "execution_count": null,
   "metadata": {},
   "outputs": [],
   "source": []
  },
  {
   "cell_type": "markdown",
   "metadata": {},
   "source": [
    "# Load middle frame from each cut scene"
   ]
  },
  {
   "cell_type": "code",
   "execution_count": 3,
   "metadata": {},
   "outputs": [],
   "source": [
    "def load_one_movie_frame(load_data_info_dir, movie, save_data_dir, bucket):\n",
    "    movie_path = os.path.join(load_data_info_dir, movie)\n",
    "\n",
    "    scenarios = sorted(os.listdir(movie_path), key=lambda x: int(x.split(\".txt\")[0]))\n",
    "    for scenario in scenarios:\n",
    "        scenes_file = os.path.join(movie_path, scenario)\n",
    "\n",
    "        with open(scenes_file, \"r\") as f:\n",
    "            lines = f.readlines()\n",
    "\n",
    "        save_dir_path = os.path.join(\n",
    "            save_data_dir,\n",
    "            movie_path.split(\"/\")[-1],\n",
    "            scenario.split(\".txt\")[0],\n",
    "        )\n",
    "        os.makedirs(save_dir_path, exist_ok=True)\n",
    "\n",
    "        for line in lines:\n",
    "            s3_client.download_file(\n",
    "                Bucket=bucket,\n",
    "                Key=line.strip(),\n",
    "                Filename=os.path.join(\n",
    "                    save_dir_path, \"{:}\".format(line.strip().split(\"/\")[-1])\n",
    "                ),\n",
    "            )\n"
   ]
  },
  {
   "cell_type": "code",
   "execution_count": 4,
   "metadata": {},
   "outputs": [],
   "source": [
    "s3_client = boto3.Session(\n",
    "    aws_access_key_id=AWS_ACCESS_KEY_ID,\n",
    "    aws_secret_access_key=AWS_SECRET_ACCESS_KEY,\n",
    ").client(\n",
    "    \"s3\",\n",
    "    endpoint_url=\"https://695d5a9fc666e505559765690b5db7dd.eu.r2.cloudflarestorage.com\",\n",
    ")\n",
    "\n",
    "bucket = \"hf-batch-generation-movies\""
   ]
  },
  {
   "cell_type": "code",
   "execution_count": 5,
   "metadata": {},
   "outputs": [],
   "source": [
    "# s3_client.download_file(\n",
    "#     Bucket=bucket,\n",
    "#     Key=\"batch_generation_data/The Meg (2018) [WEBRip] [1080p] [YTS.AM]/3/images/0025.png\",\n",
    "#     Filename=\"test_load.png\",\n",
    "# )"
   ]
  },
  {
   "cell_type": "code",
   "execution_count": 5,
   "metadata": {},
   "outputs": [
    {
     "data": {
      "text/plain": [
       "'Annabelle Comes Home (2019) [BluRay] [1080p] [YTS.LT]'"
      ]
     },
     "execution_count": 5,
     "metadata": {},
     "output_type": "execute_result"
    }
   ],
   "source": [
    "load_data_info_dir = \"./settings\"\n",
    "\n",
    "all_movies = os.listdir(load_data_info_dir)\n",
    "\n",
    "# movie = [x for x in all_movies if \"Jurassic World Dominion\" in x][0]\n",
    "# movie = \"Avengers Age of Ultron (2015) [1080p]\"\n",
    "# movie = \"The Meg (2018) [WEBRip] [1080p] [YTS.AM]\"\n",
    "movie = \"Annabelle Comes Home (2019) [BluRay] [1080p] [YTS.LT]\"\n",
    "# movie = \"The.Croods.A.New.Age.2020.1080p.WEB-DL.DD5.1.H.264-EVO[TGx]\"\n",
    "\n",
    "movie"
   ]
  },
  {
   "cell_type": "code",
   "execution_count": 6,
   "metadata": {},
   "outputs": [],
   "source": [
    "save_data_dir = \"./loaded_data\"\n",
    "os.makedirs(save_data_dir, exist_ok=True)"
   ]
  },
  {
   "cell_type": "code",
   "execution_count": 7,
   "metadata": {},
   "outputs": [],
   "source": [
    "load_one_movie_frame(\n",
    "    load_data_info_dir=load_data_info_dir,\n",
    "    movie=movie,\n",
    "    save_data_dir=save_data_dir,\n",
    "    bucket=bucket,\n",
    ")"
   ]
  },
  {
   "cell_type": "code",
   "execution_count": null,
   "metadata": {},
   "outputs": [],
   "source": []
  },
  {
   "cell_type": "code",
   "execution_count": null,
   "metadata": {},
   "outputs": [],
   "source": []
  },
  {
   "cell_type": "code",
   "execution_count": null,
   "metadata": {},
   "outputs": [],
   "source": []
  }
 ],
 "metadata": {
  "kernelspec": {
   "display_name": "Python (ml_env)",
   "language": "python",
   "name": "ml_env"
  },
  "language_info": {
   "codemirror_mode": {
    "name": "ipython",
    "version": 3
   },
   "file_extension": ".py",
   "mimetype": "text/x-python",
   "name": "python",
   "nbconvert_exporter": "python",
   "pygments_lexer": "ipython3",
   "version": "3.10.13"
  }
 },
 "nbformat": 4,
 "nbformat_minor": 2
}
